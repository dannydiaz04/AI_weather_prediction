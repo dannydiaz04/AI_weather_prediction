{
 "cells": [
  {
   "cell_type": "code",
   "execution_count": 10,
   "metadata": {},
   "outputs": [],
   "source": [
    "# import pandas and scikit learn shuffle method.\n",
    "# the shuffle method shuffles data in a a dataframe. \n",
    "# we need the data shuffled so that we can get a balanced dataset for training\n",
    "import pandas as pd\n",
    "from sklearn.utils import shuffle"
   ]
  },
  {
   "cell_type": "code",
   "execution_count": null,
   "metadata": {},
   "outputs": [],
   "source": [
    "# read in the zip codes file\n",
    "uszips = pd.read_csv(r'D:/CSU/Winter 2021/CSC510 - Foundations of Artificial Intelligence/Portfolio Project/Data/simplemaps_uszips_basicv1.79/uszips.csv')\n",
    "\n",
    "uszips"
   ]
  },
  {
   "cell_type": "code",
   "execution_count": null,
   "metadata": {},
   "outputs": [],
   "source": [
    "# shuffle the dataset\n",
    "uszips_shuffled = shuffle(uszips)\n",
    "\n",
    "uszips_shuffled"
   ]
  },
  {
   "cell_type": "code",
   "execution_count": 23,
   "metadata": {},
   "outputs": [],
   "source": [
    "# create a list of states to get 50 different zipcodes from each state\n",
    "state_list = uszips_shuffled.state_id.unique()"
   ]
  },
  {
   "cell_type": "code",
   "execution_count": null,
   "metadata": {},
   "outputs": [],
   "source": [
    "# test cell\n",
    "uszips_shuffled[uszips_shuffled['state_id'] == 'CO'].iloc[:50]"
   ]
  },
  {
   "cell_type": "code",
   "execution_count": 37,
   "metadata": {},
   "outputs": [
    {
     "data": {
      "text/plain": [
       "2624"
      ]
     },
     "execution_count": 37,
     "metadata": {},
     "output_type": "execute_result"
    }
   ],
   "source": [
    "'''Use a for loop to go through each state.\n",
    "    - filter the zipcode dataframe for each state\n",
    "    - choose 50 random zip codes for each state\n",
    "    - store the rows returned in a new dataframe that will be our dataset'''\n",
    "\n",
    "# initialize the resultant dataframe\n",
    "dataset = pd.DataFrame()\n",
    "\n",
    "for state in state_list:\n",
    "    fifty_zipcodes = uszips_shuffled[uszips_shuffled['state_id'] == state].iloc[:50]\n",
    "\n",
    "    dataset = dataset.append(fifty_zipcodes, ignore_index=True)\n",
    "\n",
    "dataset.shape[0]\n",
    "\n"
   ]
  },
  {
   "cell_type": "code",
   "execution_count": 40,
   "metadata": {},
   "outputs": [
    {
     "data": {
      "text/plain": [
       "array(['SD', 'KY', 'TX', 'NE', 'LA', 'PA', 'MS', 'IL', 'CO', 'MD', 'ID',\n",
       "       'MO', 'WI', 'VT', 'SC', 'MI', 'NH', 'MN', 'CA', 'IA', 'NC', 'NJ',\n",
       "       'MT', 'OH', 'OR', 'ME', 'NY', 'CT', 'AR', 'WV', 'TN', 'KS', 'GA',\n",
       "       'AZ', 'IN', 'VA', 'AL', 'OK', 'FL', 'NV', 'MA', 'UT', 'NM', 'RI',\n",
       "       'WY', 'AK', 'WA', 'ND', 'PR', 'DC', 'GU', 'HI', 'DE', 'VI', 'MP',\n",
       "       'AS'], dtype=object)"
      ]
     },
     "execution_count": 40,
     "metadata": {},
     "output_type": "execute_result"
    }
   ],
   "source": [
    "dataset.state_id.unique()"
   ]
  },
  {
   "cell_type": "code",
   "execution_count": 41,
   "metadata": {},
   "outputs": [],
   "source": [
    "# export as a csv so that we can read it into our meteostate data gathering code\n",
    "dataset.to_csv('D:/CSU/Winter 2021/CSC510 - Foundations of Artificial Intelligence/Portfolio Project/Data/simplemaps_uszips_basicv1.79/uszips_shuffled_50_zipcode_limit.csv')"
   ]
  },
  {
   "cell_type": "code",
   "execution_count": null,
   "metadata": {},
   "outputs": [],
   "source": []
  }
 ],
 "metadata": {
  "interpreter": {
   "hash": "12495dda3933ae8b8e0c3c7ecc6a6e55023f0ed2c2b9c3ebcdd227d4de01f6a0"
  },
  "kernelspec": {
   "display_name": "Python 3.9.10 64-bit (windows store)",
   "language": "python",
   "name": "python3"
  },
  "language_info": {
   "codemirror_mode": {
    "name": "ipython",
    "version": 3
   },
   "file_extension": ".py",
   "mimetype": "text/x-python",
   "name": "python",
   "nbconvert_exporter": "python",
   "pygments_lexer": "ipython3",
   "version": "3.9.10"
  },
  "orig_nbformat": 4
 },
 "nbformat": 4,
 "nbformat_minor": 2
}
